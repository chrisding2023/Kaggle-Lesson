{
 "cells": [
  {
   "cell_type": "code",
   "execution_count": 23,
   "metadata": {},
   "outputs": [],
   "source": [
    "import pandas as pd\n",
    "data=pd.read_csv('/Users/shuozhang/Desktop/kaggle/nba_2013.csv')"
   ]
  },
  {
   "cell_type": "code",
   "execution_count": 2,
   "metadata": {},
   "outputs": [
    {
     "data": {
      "text/html": [
       "<div>\n",
       "<style scoped>\n",
       "    .dataframe tbody tr th:only-of-type {\n",
       "        vertical-align: middle;\n",
       "    }\n",
       "\n",
       "    .dataframe tbody tr th {\n",
       "        vertical-align: top;\n",
       "    }\n",
       "\n",
       "    .dataframe thead th {\n",
       "        text-align: right;\n",
       "    }\n",
       "</style>\n",
       "<table border=\"1\" class=\"dataframe\">\n",
       "  <thead>\n",
       "    <tr style=\"text-align: right;\">\n",
       "      <th></th>\n",
       "      <th>Rk</th>\n",
       "      <th>Age</th>\n",
       "      <th>G</th>\n",
       "      <th>MP</th>\n",
       "      <th>PER</th>\n",
       "      <th>TS%</th>\n",
       "      <th>3PAr</th>\n",
       "      <th>FTr</th>\n",
       "      <th>ORB%</th>\n",
       "      <th>DRB%</th>\n",
       "      <th>...</th>\n",
       "      <th>TOV%</th>\n",
       "      <th>USG%</th>\n",
       "      <th>OWS</th>\n",
       "      <th>DWS</th>\n",
       "      <th>WS</th>\n",
       "      <th>WS/48</th>\n",
       "      <th>OBPM</th>\n",
       "      <th>DBPM</th>\n",
       "      <th>BPM</th>\n",
       "      <th>VORP</th>\n",
       "    </tr>\n",
       "  </thead>\n",
       "  <tbody>\n",
       "    <tr>\n",
       "      <th>count</th>\n",
       "      <td>573.000000</td>\n",
       "      <td>573.000000</td>\n",
       "      <td>573.000000</td>\n",
       "      <td>573.000000</td>\n",
       "      <td>572.000000</td>\n",
       "      <td>569.000000</td>\n",
       "      <td>569.000000</td>\n",
       "      <td>569.000000</td>\n",
       "      <td>572.000000</td>\n",
       "      <td>572.000000</td>\n",
       "      <td>...</td>\n",
       "      <td>570.000000</td>\n",
       "      <td>572.000000</td>\n",
       "      <td>573.000000</td>\n",
       "      <td>573.000000</td>\n",
       "      <td>573.000000</td>\n",
       "      <td>572.000000</td>\n",
       "      <td>573.000000</td>\n",
       "      <td>573.000000</td>\n",
       "      <td>573.000000</td>\n",
       "      <td>573.000000</td>\n",
       "    </tr>\n",
       "    <tr>\n",
       "      <th>mean</th>\n",
       "      <td>234.607330</td>\n",
       "      <td>26.535777</td>\n",
       "      <td>49.219895</td>\n",
       "      <td>1112.923211</td>\n",
       "      <td>12.127972</td>\n",
       "      <td>0.499309</td>\n",
       "      <td>0.236636</td>\n",
       "      <td>0.278002</td>\n",
       "      <td>5.690734</td>\n",
       "      <td>14.268182</td>\n",
       "      <td>...</td>\n",
       "      <td>14.621404</td>\n",
       "      <td>18.703322</td>\n",
       "      <td>1.186562</td>\n",
       "      <td>1.109424</td>\n",
       "      <td>2.295812</td>\n",
       "      <td>0.060797</td>\n",
       "      <td>-1.778360</td>\n",
       "      <td>-0.492845</td>\n",
       "      <td>-2.268761</td>\n",
       "      <td>0.522688</td>\n",
       "    </tr>\n",
       "    <tr>\n",
       "      <th>std</th>\n",
       "      <td>135.580961</td>\n",
       "      <td>4.230781</td>\n",
       "      <td>25.925670</td>\n",
       "      <td>878.099964</td>\n",
       "      <td>6.040580</td>\n",
       "      <td>0.099934</td>\n",
       "      <td>0.213113</td>\n",
       "      <td>0.244251</td>\n",
       "      <td>5.548980</td>\n",
       "      <td>7.055579</td>\n",
       "      <td>...</td>\n",
       "      <td>8.253539</td>\n",
       "      <td>5.199738</td>\n",
       "      <td>1.968674</td>\n",
       "      <td>1.155958</td>\n",
       "      <td>2.826353</td>\n",
       "      <td>0.102521</td>\n",
       "      <td>3.573037</td>\n",
       "      <td>1.994670</td>\n",
       "      <td>4.339752</td>\n",
       "      <td>1.182688</td>\n",
       "    </tr>\n",
       "    <tr>\n",
       "      <th>min</th>\n",
       "      <td>1.000000</td>\n",
       "      <td>19.000000</td>\n",
       "      <td>1.000000</td>\n",
       "      <td>0.000000</td>\n",
       "      <td>-30.200000</td>\n",
       "      <td>0.000000</td>\n",
       "      <td>0.000000</td>\n",
       "      <td>0.000000</td>\n",
       "      <td>0.000000</td>\n",
       "      <td>0.000000</td>\n",
       "      <td>...</td>\n",
       "      <td>0.000000</td>\n",
       "      <td>0.000000</td>\n",
       "      <td>-2.500000</td>\n",
       "      <td>-0.200000</td>\n",
       "      <td>-1.500000</td>\n",
       "      <td>-0.779000</td>\n",
       "      <td>-29.500000</td>\n",
       "      <td>-10.600000</td>\n",
       "      <td>-31.100000</td>\n",
       "      <td>-1.500000</td>\n",
       "    </tr>\n",
       "    <tr>\n",
       "      <th>25%</th>\n",
       "      <td>115.000000</td>\n",
       "      <td>23.000000</td>\n",
       "      <td>27.000000</td>\n",
       "      <td>325.000000</td>\n",
       "      <td>9.300000</td>\n",
       "      <td>0.472000</td>\n",
       "      <td>0.009000</td>\n",
       "      <td>0.165000</td>\n",
       "      <td>1.900000</td>\n",
       "      <td>9.100000</td>\n",
       "      <td>...</td>\n",
       "      <td>10.700000</td>\n",
       "      <td>15.100000</td>\n",
       "      <td>0.000000</td>\n",
       "      <td>0.200000</td>\n",
       "      <td>0.100000</td>\n",
       "      <td>0.028000</td>\n",
       "      <td>-3.200000</td>\n",
       "      <td>-1.600000</td>\n",
       "      <td>-3.600000</td>\n",
       "      <td>-0.100000</td>\n",
       "    </tr>\n",
       "    <tr>\n",
       "      <th>50%</th>\n",
       "      <td>240.000000</td>\n",
       "      <td>26.000000</td>\n",
       "      <td>53.000000</td>\n",
       "      <td>936.000000</td>\n",
       "      <td>12.400000</td>\n",
       "      <td>0.516000</td>\n",
       "      <td>0.222000</td>\n",
       "      <td>0.236000</td>\n",
       "      <td>3.900000</td>\n",
       "      <td>13.300000</td>\n",
       "      <td>...</td>\n",
       "      <td>13.300000</td>\n",
       "      <td>18.400000</td>\n",
       "      <td>0.400000</td>\n",
       "      <td>0.700000</td>\n",
       "      <td>1.300000</td>\n",
       "      <td>0.075000</td>\n",
       "      <td>-1.300000</td>\n",
       "      <td>-0.500000</td>\n",
       "      <td>-1.700000</td>\n",
       "      <td>0.100000</td>\n",
       "    </tr>\n",
       "    <tr>\n",
       "      <th>75%</th>\n",
       "      <td>350.000000</td>\n",
       "      <td>30.000000</td>\n",
       "      <td>75.000000</td>\n",
       "      <td>1837.000000</td>\n",
       "      <td>15.900000</td>\n",
       "      <td>0.553000</td>\n",
       "      <td>0.405000</td>\n",
       "      <td>0.333000</td>\n",
       "      <td>8.400000</td>\n",
       "      <td>18.800000</td>\n",
       "      <td>...</td>\n",
       "      <td>16.900000</td>\n",
       "      <td>22.125000</td>\n",
       "      <td>1.900000</td>\n",
       "      <td>1.700000</td>\n",
       "      <td>3.600000</td>\n",
       "      <td>0.116000</td>\n",
       "      <td>0.400000</td>\n",
       "      <td>0.900000</td>\n",
       "      <td>0.300000</td>\n",
       "      <td>0.800000</td>\n",
       "    </tr>\n",
       "    <tr>\n",
       "      <th>max</th>\n",
       "      <td>469.000000</td>\n",
       "      <td>40.000000</td>\n",
       "      <td>82.000000</td>\n",
       "      <td>3167.000000</td>\n",
       "      <td>31.600000</td>\n",
       "      <td>0.931000</td>\n",
       "      <td>0.873000</td>\n",
       "      <td>4.000000</td>\n",
       "      <td>56.700000</td>\n",
       "      <td>67.700000</td>\n",
       "      <td>...</td>\n",
       "      <td>100.000000</td>\n",
       "      <td>37.200000</td>\n",
       "      <td>14.600000</td>\n",
       "      <td>6.300000</td>\n",
       "      <td>19.300000</td>\n",
       "      <td>0.353000</td>\n",
       "      <td>9.000000</td>\n",
       "      <td>4.900000</td>\n",
       "      <td>10.800000</td>\n",
       "      <td>9.200000</td>\n",
       "    </tr>\n",
       "  </tbody>\n",
       "</table>\n",
       "<p>8 rows × 24 columns</p>\n",
       "</div>"
      ],
      "text/plain": [
       "               Rk         Age           G           MP         PER  \\\n",
       "count  573.000000  573.000000  573.000000   573.000000  572.000000   \n",
       "mean   234.607330   26.535777   49.219895  1112.923211   12.127972   \n",
       "std    135.580961    4.230781   25.925670   878.099964    6.040580   \n",
       "min      1.000000   19.000000    1.000000     0.000000  -30.200000   \n",
       "25%    115.000000   23.000000   27.000000   325.000000    9.300000   \n",
       "50%    240.000000   26.000000   53.000000   936.000000   12.400000   \n",
       "75%    350.000000   30.000000   75.000000  1837.000000   15.900000   \n",
       "max    469.000000   40.000000   82.000000  3167.000000   31.600000   \n",
       "\n",
       "              TS%        3PAr         FTr        ORB%        DRB%  ...  \\\n",
       "count  569.000000  569.000000  569.000000  572.000000  572.000000  ...   \n",
       "mean     0.499309    0.236636    0.278002    5.690734   14.268182  ...   \n",
       "std      0.099934    0.213113    0.244251    5.548980    7.055579  ...   \n",
       "min      0.000000    0.000000    0.000000    0.000000    0.000000  ...   \n",
       "25%      0.472000    0.009000    0.165000    1.900000    9.100000  ...   \n",
       "50%      0.516000    0.222000    0.236000    3.900000   13.300000  ...   \n",
       "75%      0.553000    0.405000    0.333000    8.400000   18.800000  ...   \n",
       "max      0.931000    0.873000    4.000000   56.700000   67.700000  ...   \n",
       "\n",
       "             TOV%        USG%         OWS         DWS          WS       WS/48  \\\n",
       "count  570.000000  572.000000  573.000000  573.000000  573.000000  572.000000   \n",
       "mean    14.621404   18.703322    1.186562    1.109424    2.295812    0.060797   \n",
       "std      8.253539    5.199738    1.968674    1.155958    2.826353    0.102521   \n",
       "min      0.000000    0.000000   -2.500000   -0.200000   -1.500000   -0.779000   \n",
       "25%     10.700000   15.100000    0.000000    0.200000    0.100000    0.028000   \n",
       "50%     13.300000   18.400000    0.400000    0.700000    1.300000    0.075000   \n",
       "75%     16.900000   22.125000    1.900000    1.700000    3.600000    0.116000   \n",
       "max    100.000000   37.200000   14.600000    6.300000   19.300000    0.353000   \n",
       "\n",
       "             OBPM        DBPM         BPM        VORP  \n",
       "count  573.000000  573.000000  573.000000  573.000000  \n",
       "mean    -1.778360   -0.492845   -2.268761    0.522688  \n",
       "std      3.573037    1.994670    4.339752    1.182688  \n",
       "min    -29.500000  -10.600000  -31.100000   -1.500000  \n",
       "25%     -3.200000   -1.600000   -3.600000   -0.100000  \n",
       "50%     -1.300000   -0.500000   -1.700000    0.100000  \n",
       "75%      0.400000    0.900000    0.300000    0.800000  \n",
       "max      9.000000    4.900000   10.800000    9.200000  \n",
       "\n",
       "[8 rows x 24 columns]"
      ]
     },
     "execution_count": 2,
     "metadata": {},
     "output_type": "execute_result"
    }
   ],
   "source": [
    "data.describe()"
   ]
  },
  {
   "cell_type": "code",
   "execution_count": 3,
   "metadata": {},
   "outputs": [
    {
     "data": {
      "text/plain": [
       "Index(['Rk', 'Player', 'Pos', 'Age', 'Tm', 'G', 'MP', 'PER', 'TS%', '3PAr',\n",
       "       'FTr', 'ORB%', 'DRB%', 'TRB%', 'AST%', 'STL%', 'BLK%', 'TOV%', 'USG%',\n",
       "       'OWS', 'DWS', 'WS', 'WS/48', 'OBPM', 'DBPM', 'BPM', 'VORP'],\n",
       "      dtype='object')"
      ]
     },
     "execution_count": 3,
     "metadata": {},
     "output_type": "execute_result"
    }
   ],
   "source": [
    "data.columns"
   ]
  },
  {
   "cell_type": "code",
   "execution_count": 24,
   "metadata": {},
   "outputs": [
    {
     "name": "stdout",
     "output_type": "stream",
     "text": [
      "<class 'pandas.core.frame.DataFrame'>\n",
      "RangeIndex: 573 entries, 0 to 572\n",
      "Data columns (total 27 columns):\n",
      "Rk        573 non-null int64\n",
      "Player    573 non-null object\n",
      "Pos       573 non-null object\n",
      "Age       573 non-null int64\n",
      "Tm        573 non-null object\n",
      "G         573 non-null int64\n",
      "MP        573 non-null int64\n",
      "PER       572 non-null float64\n",
      "TS%       569 non-null float64\n",
      "3PAr      569 non-null float64\n",
      "FTr       569 non-null float64\n",
      "ORB%      572 non-null float64\n",
      "DRB%      572 non-null float64\n",
      "TRB%      572 non-null float64\n",
      "AST%      572 non-null float64\n",
      "STL%      572 non-null float64\n",
      "BLK%      572 non-null float64\n",
      "TOV%      570 non-null float64\n",
      "USG%      572 non-null float64\n",
      "OWS       573 non-null float64\n",
      "DWS       573 non-null float64\n",
      "WS        573 non-null float64\n",
      "WS/48     572 non-null float64\n",
      "OBPM      573 non-null float64\n",
      "DBPM      573 non-null float64\n",
      "BPM       573 non-null float64\n",
      "VORP      573 non-null float64\n",
      "dtypes: float64(20), int64(4), object(3)\n",
      "memory usage: 120.9+ KB\n"
     ]
    }
   ],
   "source": [
    "data.info()"
   ]
  },
  {
   "cell_type": "code",
   "execution_count": 25,
   "metadata": {},
   "outputs": [
    {
     "data": {
      "text/plain": [
       "Louis Amundson         4\n",
       "Shelvin Mack           4\n",
       "Jannero Pargo          4\n",
       "Dominic McGuire        4\n",
       "Francisco Garcia       3\n",
       "Jordan Crawford        3\n",
       "Josh McRoberts         3\n",
       "Eric Maynor            3\n",
       "Earl Barron            3\n",
       "Anthony Morrow         3\n",
       "Derek Fisher           3\n",
       "Jeremy Tyler           3\n",
       "Jon Leuer              3\n",
       "Ed Davis               3\n",
       "Hakim Warrick          3\n",
       "Terrel Harris          3\n",
       "Maalik Wayns           3\n",
       "Kris Joseph            3\n",
       "Jarvis Varnado         3\n",
       "Aaron Brooks           3\n",
       "Cole Aldrich           3\n",
       "Thomas Robinson        3\n",
       "J.J. Redick            3\n",
       "Charles Jenkins        3\n",
       "Dexter Pittman         3\n",
       "Jeremy Pargo           3\n",
       "Gustavo Ayon           3\n",
       "Toney Douglas          3\n",
       "James Anderson         3\n",
       "Doron Lamb             3\n",
       "                      ..\n",
       "Trevor Ariza           1\n",
       "Kemba Walker           1\n",
       "Jeff Teague            1\n",
       "Ian Mahinmi            1\n",
       "Josh Howard            1\n",
       "Eric Gordon            1\n",
       "Monta Ellis            1\n",
       "Danny Green            1\n",
       "Xavier Henry           1\n",
       "Vladimir Radmanovic    1\n",
       "Jarrett Jack           1\n",
       "Mike Miller            1\n",
       "Richard Hamilton       1\n",
       "Samardo Samuels        1\n",
       "Manu Ginobili          1\n",
       "Kevin Martin           1\n",
       "Viacheslav Kravtsov    1\n",
       "DeShawn Stevenson      1\n",
       "Dwight Howard          1\n",
       "Courtney Lee           1\n",
       "Evan Turner            1\n",
       "Corey Maggette         1\n",
       "Dante Cunningham       1\n",
       "Cory Joseph            1\n",
       "Jerry Stackhouse       1\n",
       "Serge Ibaka            1\n",
       "Jason Terry            1\n",
       "Brandon Bass           1\n",
       "Cartier Martin         1\n",
       "Kendrick Perkins       1\n",
       "Name: Player, Length: 468, dtype: int64"
      ]
     },
     "execution_count": 25,
     "metadata": {},
     "output_type": "execute_result"
    }
   ],
   "source": [
    "data['Player'].value_counts()"
   ]
  },
  {
   "cell_type": "code",
   "execution_count": 4,
   "metadata": {},
   "outputs": [
    {
     "data": {
      "text/plain": [
       "(573, 27)"
      ]
     },
     "execution_count": 4,
     "metadata": {},
     "output_type": "execute_result"
    }
   ],
   "source": [
    "data.shape"
   ]
  },
  {
   "cell_type": "code",
   "execution_count": 5,
   "metadata": {},
   "outputs": [
    {
     "data": {
      "text/html": [
       "<div>\n",
       "<style scoped>\n",
       "    .dataframe tbody tr th:only-of-type {\n",
       "        vertical-align: middle;\n",
       "    }\n",
       "\n",
       "    .dataframe tbody tr th {\n",
       "        vertical-align: top;\n",
       "    }\n",
       "\n",
       "    .dataframe thead th {\n",
       "        text-align: right;\n",
       "    }\n",
       "</style>\n",
       "<table border=\"1\" class=\"dataframe\">\n",
       "  <thead>\n",
       "    <tr style=\"text-align: right;\">\n",
       "      <th></th>\n",
       "      <th>Rk</th>\n",
       "      <th>Player</th>\n",
       "      <th>Pos</th>\n",
       "      <th>Age</th>\n",
       "      <th>Tm</th>\n",
       "      <th>G</th>\n",
       "      <th>MP</th>\n",
       "      <th>PER</th>\n",
       "      <th>TS%</th>\n",
       "      <th>3PAr</th>\n",
       "      <th>...</th>\n",
       "      <th>TOV%</th>\n",
       "      <th>USG%</th>\n",
       "      <th>OWS</th>\n",
       "      <th>DWS</th>\n",
       "      <th>WS</th>\n",
       "      <th>WS/48</th>\n",
       "      <th>OBPM</th>\n",
       "      <th>DBPM</th>\n",
       "      <th>BPM</th>\n",
       "      <th>VORP</th>\n",
       "    </tr>\n",
       "  </thead>\n",
       "  <tbody>\n",
       "    <tr>\n",
       "      <th>0</th>\n",
       "      <td>1</td>\n",
       "      <td>Quincy Acy</td>\n",
       "      <td>PF</td>\n",
       "      <td>22</td>\n",
       "      <td>TOR</td>\n",
       "      <td>29</td>\n",
       "      <td>342</td>\n",
       "      <td>15.9</td>\n",
       "      <td>0.632</td>\n",
       "      <td>0.027</td>\n",
       "      <td>...</td>\n",
       "      <td>15.6</td>\n",
       "      <td>14.7</td>\n",
       "      <td>0.7</td>\n",
       "      <td>0.4</td>\n",
       "      <td>1.1</td>\n",
       "      <td>0.157</td>\n",
       "      <td>-0.6</td>\n",
       "      <td>1.0</td>\n",
       "      <td>0.5</td>\n",
       "      <td>0.2</td>\n",
       "    </tr>\n",
       "    <tr>\n",
       "      <th>1</th>\n",
       "      <td>2</td>\n",
       "      <td>Jeff Adrien</td>\n",
       "      <td>PF</td>\n",
       "      <td>26</td>\n",
       "      <td>CHA</td>\n",
       "      <td>52</td>\n",
       "      <td>713</td>\n",
       "      <td>13.4</td>\n",
       "      <td>0.493</td>\n",
       "      <td>0.012</td>\n",
       "      <td>...</td>\n",
       "      <td>13.1</td>\n",
       "      <td>15.6</td>\n",
       "      <td>0.5</td>\n",
       "      <td>0.4</td>\n",
       "      <td>1.0</td>\n",
       "      <td>0.064</td>\n",
       "      <td>-2.9</td>\n",
       "      <td>-0.4</td>\n",
       "      <td>-3.3</td>\n",
       "      <td>-0.2</td>\n",
       "    </tr>\n",
       "    <tr>\n",
       "      <th>2</th>\n",
       "      <td>3</td>\n",
       "      <td>Arron Afflalo</td>\n",
       "      <td>SF</td>\n",
       "      <td>27</td>\n",
       "      <td>ORL</td>\n",
       "      <td>64</td>\n",
       "      <td>2307</td>\n",
       "      <td>13.0</td>\n",
       "      <td>0.527</td>\n",
       "      <td>0.265</td>\n",
       "      <td>...</td>\n",
       "      <td>12.1</td>\n",
       "      <td>22.5</td>\n",
       "      <td>1.5</td>\n",
       "      <td>0.5</td>\n",
       "      <td>2.0</td>\n",
       "      <td>0.042</td>\n",
       "      <td>-0.4</td>\n",
       "      <td>-1.9</td>\n",
       "      <td>-2.3</td>\n",
       "      <td>-0.2</td>\n",
       "    </tr>\n",
       "    <tr>\n",
       "      <th>3</th>\n",
       "      <td>4</td>\n",
       "      <td>Josh Akognon</td>\n",
       "      <td>PG</td>\n",
       "      <td>26</td>\n",
       "      <td>DAL</td>\n",
       "      <td>3</td>\n",
       "      <td>9</td>\n",
       "      <td>15.3</td>\n",
       "      <td>0.625</td>\n",
       "      <td>0.500</td>\n",
       "      <td>...</td>\n",
       "      <td>0.0</td>\n",
       "      <td>20.3</td>\n",
       "      <td>0.0</td>\n",
       "      <td>0.0</td>\n",
       "      <td>0.0</td>\n",
       "      <td>0.196</td>\n",
       "      <td>4.3</td>\n",
       "      <td>-4.9</td>\n",
       "      <td>-0.6</td>\n",
       "      <td>0.0</td>\n",
       "    </tr>\n",
       "    <tr>\n",
       "      <th>4</th>\n",
       "      <td>5</td>\n",
       "      <td>Cole Aldrich</td>\n",
       "      <td>C</td>\n",
       "      <td>24</td>\n",
       "      <td>TOT</td>\n",
       "      <td>45</td>\n",
       "      <td>388</td>\n",
       "      <td>11.1</td>\n",
       "      <td>0.563</td>\n",
       "      <td>0.000</td>\n",
       "      <td>...</td>\n",
       "      <td>20.6</td>\n",
       "      <td>12.7</td>\n",
       "      <td>0.1</td>\n",
       "      <td>0.4</td>\n",
       "      <td>0.6</td>\n",
       "      <td>0.070</td>\n",
       "      <td>-4.4</td>\n",
       "      <td>0.4</td>\n",
       "      <td>-3.9</td>\n",
       "      <td>-0.2</td>\n",
       "    </tr>\n",
       "  </tbody>\n",
       "</table>\n",
       "<p>5 rows × 27 columns</p>\n",
       "</div>"
      ],
      "text/plain": [
       "   Rk         Player Pos  Age   Tm   G    MP   PER    TS%   3PAr  ...  TOV%  \\\n",
       "0   1     Quincy Acy  PF   22  TOR  29   342  15.9  0.632  0.027  ...  15.6   \n",
       "1   2    Jeff Adrien  PF   26  CHA  52   713  13.4  0.493  0.012  ...  13.1   \n",
       "2   3  Arron Afflalo  SF   27  ORL  64  2307  13.0  0.527  0.265  ...  12.1   \n",
       "3   4   Josh Akognon  PG   26  DAL   3     9  15.3  0.625  0.500  ...   0.0   \n",
       "4   5   Cole Aldrich   C   24  TOT  45   388  11.1  0.563  0.000  ...  20.6   \n",
       "\n",
       "   USG%  OWS  DWS   WS  WS/48  OBPM  DBPM  BPM  VORP  \n",
       "0  14.7  0.7  0.4  1.1  0.157  -0.6   1.0  0.5   0.2  \n",
       "1  15.6  0.5  0.4  1.0  0.064  -2.9  -0.4 -3.3  -0.2  \n",
       "2  22.5  1.5  0.5  2.0  0.042  -0.4  -1.9 -2.3  -0.2  \n",
       "3  20.3  0.0  0.0  0.0  0.196   4.3  -4.9 -0.6   0.0  \n",
       "4  12.7  0.1  0.4  0.6  0.070  -4.4   0.4 -3.9  -0.2  \n",
       "\n",
       "[5 rows x 27 columns]"
      ]
     },
     "execution_count": 5,
     "metadata": {},
     "output_type": "execute_result"
    }
   ],
   "source": [
    "data.head(5)"
   ]
  },
  {
   "cell_type": "code",
   "execution_count": 6,
   "metadata": {},
   "outputs": [
    {
     "data": {
      "text/plain": [
       "array([  1,   2,   3,   4,   5,   6,   7,   8,   9,  10,  11,  12,  13,\n",
       "        14,  15,  16,  17,  18,  19,  20,  21,  22,  23,  24,  25,  26,\n",
       "        27,  28,  29,  30,  31,  32,  33,  34,  35,  36,  37,  38,  39,\n",
       "        40,  41,  42,  43,  44,  45,  46,  47,  48,  49,  50,  51,  52,\n",
       "        53,  54,  55,  56,  57,  58,  59,  60,  61,  62,  63,  64,  65,\n",
       "        66,  67,  68,  69,  70,  71,  72,  73,  74,  75,  76,  77,  78,\n",
       "        79,  80,  81,  82,  83,  84,  85,  86,  87,  88,  89,  90,  91,\n",
       "        92,  93,  94,  95,  96,  97,  98,  99, 100, 101, 102, 103, 104,\n",
       "       105, 106, 107, 108, 109, 110, 111, 112, 113, 114, 115, 116, 117,\n",
       "       118, 119, 120, 121, 122, 123, 124, 125, 126, 127, 128, 129, 130,\n",
       "       131, 132, 133, 134, 135, 136, 137, 138, 139, 140, 141, 142, 143,\n",
       "       144, 145, 146, 147, 148, 149, 150, 151, 152, 153, 154, 155, 156,\n",
       "       157, 158, 159, 160, 161, 162, 163, 164, 165, 166, 167, 168, 169,\n",
       "       170, 171, 172, 173, 174, 175, 176, 177, 178, 179, 180, 181, 182,\n",
       "       183, 184, 185, 186, 187, 188, 189, 190, 191, 192, 193, 194, 195,\n",
       "       196, 197, 198, 199, 200, 201, 202, 203, 204, 205, 206, 207, 208,\n",
       "       209, 210, 211, 212, 213, 214, 215, 216, 217, 218, 219, 220, 221,\n",
       "       222, 223, 224, 225, 226, 227, 228, 229, 230, 231, 232, 233, 234,\n",
       "       235, 236, 237, 238, 239, 240, 241, 242, 243, 244, 245, 246, 247,\n",
       "       248, 249, 250, 251, 252, 253, 254, 255, 256, 257, 258, 259, 260,\n",
       "       261, 262, 263, 264, 265, 266, 267, 268, 269, 270, 271, 272, 273,\n",
       "       274, 275, 276, 277, 278, 279, 280, 281, 282, 283, 284, 285, 286,\n",
       "       287, 288, 289, 290, 291, 292, 293, 294, 295, 296, 297, 298, 299,\n",
       "       300, 301, 302, 303, 304, 305, 306, 307, 308, 309, 310, 311, 312,\n",
       "       313, 314, 315, 316, 317, 318, 319, 320, 321, 322, 323, 324, 325,\n",
       "       326, 327, 328, 329, 330, 331, 332, 333, 334, 335, 336, 337, 338,\n",
       "       339, 340, 341, 342, 343, 344, 345, 346, 347, 348, 349, 350, 351,\n",
       "       352, 353, 354, 355, 356, 357, 358, 359, 360, 361, 362, 363, 364,\n",
       "       365, 366, 367, 368, 369, 370, 371, 372, 373, 374, 375, 376, 377,\n",
       "       378, 379, 380, 381, 382, 383, 384, 385, 386, 387, 388, 389, 390,\n",
       "       391, 392, 393, 394, 395, 396, 397, 398, 399, 400, 401, 402, 403,\n",
       "       404, 405, 406, 407, 408, 409, 410, 411, 412, 413, 414, 415, 416,\n",
       "       417, 418, 419, 420, 421, 422, 423, 424, 425, 426, 427, 428, 429,\n",
       "       430, 431, 432, 433, 434, 435, 436, 437, 438, 439, 440, 441, 442,\n",
       "       443, 444, 445, 446, 447, 448, 449, 450, 451, 452, 453, 454, 455,\n",
       "       456, 457, 458, 459, 460, 461, 462, 463, 464, 465, 466, 467, 468,\n",
       "       469])"
      ]
     },
     "execution_count": 6,
     "metadata": {},
     "output_type": "execute_result"
    }
   ],
   "source": [
    "data['Rk'].unique()"
   ]
  },
  {
   "cell_type": "code",
   "execution_count": 7,
   "metadata": {},
   "outputs": [
    {
     "data": {
      "text/plain": [
       "Rk        False\n",
       "Player    False\n",
       "Pos       False\n",
       "Age       False\n",
       "Tm        False\n",
       "G         False\n",
       "MP        False\n",
       "PER        True\n",
       "TS%        True\n",
       "3PAr       True\n",
       "FTr        True\n",
       "ORB%       True\n",
       "DRB%       True\n",
       "TRB%       True\n",
       "AST%       True\n",
       "STL%       True\n",
       "BLK%       True\n",
       "TOV%       True\n",
       "USG%       True\n",
       "OWS       False\n",
       "DWS       False\n",
       "WS        False\n",
       "WS/48      True\n",
       "OBPM      False\n",
       "DBPM      False\n",
       "BPM       False\n",
       "VORP      False\n",
       "dtype: bool"
      ]
     },
     "execution_count": 7,
     "metadata": {},
     "output_type": "execute_result"
    }
   ],
   "source": [
    "# missingness imputation: mean\n",
    "data.isnull().any(axis=0)"
   ]
  },
  {
   "cell_type": "code",
   "execution_count": 8,
   "metadata": {},
   "outputs": [
    {
     "data": {
      "text/plain": [
       "0      False\n",
       "1      False\n",
       "2      False\n",
       "3      False\n",
       "4      False\n",
       "5      False\n",
       "6      False\n",
       "7      False\n",
       "8      False\n",
       "9      False\n",
       "10     False\n",
       "11     False\n",
       "12     False\n",
       "13     False\n",
       "14     False\n",
       "15     False\n",
       "16     False\n",
       "17     False\n",
       "18     False\n",
       "19     False\n",
       "20     False\n",
       "21     False\n",
       "22     False\n",
       "23     False\n",
       "24     False\n",
       "25     False\n",
       "26     False\n",
       "27     False\n",
       "28     False\n",
       "29     False\n",
       "       ...  \n",
       "543    False\n",
       "544    False\n",
       "545    False\n",
       "546    False\n",
       "547    False\n",
       "548    False\n",
       "549    False\n",
       "550    False\n",
       "551    False\n",
       "552    False\n",
       "553    False\n",
       "554    False\n",
       "555    False\n",
       "556    False\n",
       "557    False\n",
       "558    False\n",
       "559    False\n",
       "560    False\n",
       "561    False\n",
       "562    False\n",
       "563    False\n",
       "564    False\n",
       "565    False\n",
       "566    False\n",
       "567    False\n",
       "568    False\n",
       "569    False\n",
       "570    False\n",
       "571    False\n",
       "572    False\n",
       "Length: 573, dtype: bool"
      ]
     },
     "execution_count": 8,
     "metadata": {},
     "output_type": "execute_result"
    }
   ],
   "source": [
    "data.isnull().any(axis=1)"
   ]
  },
  {
   "cell_type": "code",
   "execution_count": 9,
   "metadata": {},
   "outputs": [],
   "source": [
    "data.fillna(data.mean(), inplace=True)"
   ]
  },
  {
   "cell_type": "code",
   "execution_count": 10,
   "metadata": {},
   "outputs": [
    {
     "data": {
      "text/plain": [
       "Rk        0\n",
       "Player    0\n",
       "Pos       0\n",
       "Age       0\n",
       "Tm        0\n",
       "G         0\n",
       "MP        0\n",
       "PER       0\n",
       "TS%       0\n",
       "3PAr      0\n",
       "FTr       0\n",
       "ORB%      0\n",
       "DRB%      0\n",
       "TRB%      0\n",
       "AST%      0\n",
       "STL%      0\n",
       "BLK%      0\n",
       "TOV%      0\n",
       "USG%      0\n",
       "OWS       0\n",
       "DWS       0\n",
       "WS        0\n",
       "WS/48     0\n",
       "OBPM      0\n",
       "DBPM      0\n",
       "BPM       0\n",
       "VORP      0\n",
       "dtype: int64"
      ]
     },
     "execution_count": 10,
     "metadata": {},
     "output_type": "execute_result"
    }
   ],
   "source": [
    "data.isnull().sum()"
   ]
  },
  {
   "cell_type": "code",
   "execution_count": 11,
   "metadata": {},
   "outputs": [],
   "source": [
    "# The columns that we will be making predictions with.\n",
    "X = data[['Age','G', 'MP', 'PER', 'TS%', '3PAr', 'FTr', 'ORB%', 'DRB%', 'TRB%', 'AST%', 'STL%', 'BLK%','TOV%', 'USG%', 'OWS', 'DWS', 'WS', 'WS/48', 'OBPM', 'DBPM','BPM', 'VORP']]\n",
    "# The column that we want to predict.\n",
    "y = data['Rk']"
   ]
  },
  {
   "cell_type": "code",
   "execution_count": 12,
   "metadata": {},
   "outputs": [],
   "source": [
    "# split data to training/test data to 4:1, use several knn (k=5, k=sqrt(n), k=50) models to predict player rank, evaluation matrics is mse\n",
    "import numpy as np\n",
    "from sklearn.model_selection import train_test_split\n",
    "# split into train and test\n",
    "X_train, X_test, y_train, y_test = train_test_split(X, y, test_size=0.2, random_state=1)"
   ]
  },
  {
   "cell_type": "code",
   "execution_count": 13,
   "metadata": {},
   "outputs": [],
   "source": [
    "# loading library\n",
    "from sklearn.neighbors import KNeighborsRegressor\n",
    "\n",
    "# k=5\n",
    "knn = KNeighborsRegressor(n_neighbors=5)\n",
    "\n",
    "# fitting the model\n",
    "knn.fit(X_train, y_train)\n",
    "\n",
    "# predict the response\n",
    "pred = knn.predict(X_test)\n",
    "\n",
    "# Compute the mean squared error of prediction\n",
    "mse = (((pred- y_test) ** 2).sum()) / len(y_test)"
   ]
  },
  {
   "cell_type": "code",
   "execution_count": 14,
   "metadata": {},
   "outputs": [
    {
     "data": {
      "text/plain": [
       "23951.893913043477"
      ]
     },
     "execution_count": 14,
     "metadata": {},
     "output_type": "execute_result"
    }
   ],
   "source": [
    "mse"
   ]
  },
  {
   "cell_type": "code",
   "execution_count": 15,
   "metadata": {},
   "outputs": [
    {
     "data": {
      "text/plain": [
       "21.400934559032695"
      ]
     },
     "execution_count": 15,
     "metadata": {},
     "output_type": "execute_result"
    }
   ],
   "source": [
    "import math\n",
    "math.sqrt(X_train.shape[0])"
   ]
  },
  {
   "cell_type": "code",
   "execution_count": 16,
   "metadata": {},
   "outputs": [],
   "source": [
    "# k=21\n",
    "knn = KNeighborsRegressor(n_neighbors=21)\n",
    "\n",
    "# fitting the model\n",
    "knn.fit(X_train, y_train)\n",
    "\n",
    "# predict the response\n",
    "pred = knn.predict(X_test)\n",
    "\n",
    "# Compute the mean squared error of prediction\n",
    "mse = (((pred- y_test) ** 2).sum()) / len(y_test)"
   ]
  },
  {
   "cell_type": "code",
   "execution_count": 17,
   "metadata": {},
   "outputs": [
    {
     "data": {
      "text/plain": [
       "20853.11032238982"
      ]
     },
     "execution_count": 17,
     "metadata": {},
     "output_type": "execute_result"
    }
   ],
   "source": [
    "mse"
   ]
  },
  {
   "cell_type": "code",
   "execution_count": 18,
   "metadata": {},
   "outputs": [],
   "source": [
    "# k=50\n",
    "knn = KNeighborsRegressor(n_neighbors=50)\n",
    "\n",
    "# fitting the model\n",
    "knn.fit(X_train, y_train)\n",
    "\n",
    "# predict the response\n",
    "pred = knn.predict(X_test)\n",
    "\n",
    "# Compute the mean squared error of prediction\n",
    "mse = (((pred- y_test) ** 2).sum()) / len(y_test)"
   ]
  },
  {
   "cell_type": "code",
   "execution_count": 19,
   "metadata": {},
   "outputs": [
    {
     "data": {
      "text/plain": [
       "20624.694424347825"
      ]
     },
     "execution_count": 19,
     "metadata": {},
     "output_type": "execute_result"
    }
   ],
   "source": [
    "mse"
   ]
  },
  {
   "cell_type": "code",
   "execution_count": 20,
   "metadata": {},
   "outputs": [
    {
     "name": "stdout",
     "output_type": "stream",
     "text": [
      "-18229.709071195302\n",
      "47\n"
     ]
    }
   ],
   "source": [
    "from sklearn.model_selection import GridSearchCV\n",
    "k = np.array(range(1,51))\n",
    "# create and fit a ridge regression model, testing each alpha\n",
    "knn = KNeighborsRegressor()\n",
    "grid1 = GridSearchCV(estimator=knn, param_grid=dict(n_neighbors=k),cv=5,scoring='neg_mean_squared_error')\n",
    "grid1.fit(X_train, y_train)\n",
    "# summarize the results of the grid search\n",
    "print(grid1.best_score_)\n",
    "print(grid1.best_estimator_.n_neighbors)"
   ]
  },
  {
   "cell_type": "code",
   "execution_count": 21,
   "metadata": {},
   "outputs": [],
   "source": [
    "# k=47\n",
    "knn = KNeighborsRegressor(n_neighbors=47)\n",
    "\n",
    "# fitting the model\n",
    "knn.fit(X_train, y_train)\n",
    "\n",
    "# predict the response\n",
    "pred = knn.predict(X_test)\n",
    "\n",
    "# Compute the mean squared error of prediction\n",
    "mse = (((pred- y_test) ** 2).sum()) / len(y_test)"
   ]
  },
  {
   "cell_type": "code",
   "execution_count": 22,
   "metadata": {},
   "outputs": [
    {
     "data": {
      "text/plain": [
       "20465.4007636743"
      ]
     },
     "execution_count": 22,
     "metadata": {},
     "output_type": "execute_result"
    }
   ],
   "source": [
    "mse # lowest mse"
   ]
  },
  {
   "cell_type": "code",
   "execution_count": null,
   "metadata": {},
   "outputs": [],
   "source": [
    "(((pred- y_test) ** 2).sum())"
   ]
  }
 ],
 "metadata": {
  "kernelspec": {
   "display_name": "Python 3",
   "language": "python",
   "name": "python3"
  },
  "language_info": {
   "codemirror_mode": {
    "name": "ipython",
    "version": 3
   },
   "file_extension": ".py",
   "mimetype": "text/x-python",
   "name": "python",
   "nbconvert_exporter": "python",
   "pygments_lexer": "ipython3",
   "version": "3.7.3"
  }
 },
 "nbformat": 4,
 "nbformat_minor": 2
}
