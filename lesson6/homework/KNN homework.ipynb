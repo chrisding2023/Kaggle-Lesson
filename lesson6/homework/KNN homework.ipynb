{
 "cells": [
  {
   "cell_type": "code",
   "execution_count": 1,
   "metadata": {
    "collapsed": true
   },
   "outputs": [],
   "source": [
    "# read data set 'nba_2013.csv'"
   ]
  },
  {
   "cell_type": "code",
   "execution_count": 2,
   "metadata": {
    "collapsed": true
   },
   "outputs": [],
   "source": [
    "# question 1: use mean method to imputate missing values"
   ]
  },
  {
   "cell_type": "code",
   "execution_count": null,
   "metadata": {},
   "outputs": [],
   "source": [
    "# question 2: split data to training/test datasets to 4:1, use several knn (k=5, k=sqrt(n), k=50) models to \n",
    "# predict player rank, evalue three models' performance on test dataset, \n",
    "# the evaluation matrics is called mean square error(mse)\n",
    "\n",
    "# The columns that we will be making predictions with.\n",
    "X = data[['Age','G', 'MP', 'PER', 'TS%', '3PAr', 'FTr', 'ORB%', 'DRB%', 'TRB%', 'AST%', 'STL%', \n",
    "          'BLK%','TOV%', 'USG%', 'OWS', 'DWS', 'WS', 'WS/48', 'OBPM', 'DBPM','BPM', 'VORP']]\n",
    "# The column that we want to predict.\n",
    "y = data['Rk']\n",
    "\n",
    "# hint 1: use regression to build three models: from sklearn.neighbors import KNeighborsRegressor\n",
    "# hint 2: the calculation of mse is (((pred- y_test) ** 2).sum()) / len(y_test)"
   ]
  }
 ],
 "metadata": {
  "kernelspec": {
   "display_name": "Python 3",
   "language": "python",
   "name": "python3"
  },
  "language_info": {
   "codemirror_mode": {
    "name": "ipython",
    "version": 3
   },
   "file_extension": ".py",
   "mimetype": "text/x-python",
   "name": "python",
   "nbconvert_exporter": "python",
   "pygments_lexer": "ipython3",
   "version": "3.7.3"
  }
 },
 "nbformat": 4,
 "nbformat_minor": 2
}
