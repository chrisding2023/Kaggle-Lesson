{
 "cells": [
  {
   "cell_type": "code",
   "execution_count": 1,
   "metadata": {},
   "outputs": [],
   "source": [
    "# question 1\n",
    "#please load college.csv"
   ]
  },
  {
   "cell_type": "code",
   "execution_count": 2,
   "metadata": {},
   "outputs": [],
   "source": [
    "# question 2\n",
    "# target: varible named Apps\n",
    "# predictors: all other variables\n",
    "# create x and y"
   ]
  },
  {
   "cell_type": "code",
   "execution_count": 5,
   "metadata": {},
   "outputs": [],
   "source": [
    "# question 3\n",
    "# inspect the correlation among predictors"
   ]
  },
  {
   "cell_type": "code",
   "execution_count": 4,
   "metadata": {},
   "outputs": [],
   "source": [
    "# question 4\n",
    "# Creating training and test datasets. Here we decide to use a 80-20 split with approximately 80% of our data \n",
    "# in the training set and 20% of our data in the test set."
   ]
  },
  {
   "cell_type": "code",
   "execution_count": 6,
   "metadata": {},
   "outputs": [],
   "source": [
    "# question 5\n",
    "# fit multiple linear regression on training dataset, inspect intercept and coeffcients of the model\n",
    "# make prediciton on test dataset, inspect the mean_squared_error on test set, \n",
    "# hint: from sklearn.metrics import mean_squared_error"
   ]
  },
  {
   "cell_type": "code",
   "execution_count": 7,
   "metadata": {},
   "outputs": [],
   "source": [
    "# question 6\n",
    "# fit ridge model on training dataset, use 5-fold cross validation of grid search to find the best alpha value\n",
    "# alpha is defined within the range np.logspace(0, 8, 100)"
   ]
  },
  {
   "cell_type": "code",
   "execution_count": 8,
   "metadata": {},
   "outputs": [],
   "source": [
    "# question 7\n",
    "# use the best alpha value of ridge model to fit on the training set and make prediciton on test set,\n",
    "# inspect intercept and coeffcients of the model\n",
    "# what is the mean_squared_error?"
   ]
  },
  {
   "cell_type": "code",
   "execution_count": 9,
   "metadata": {},
   "outputs": [],
   "source": [
    "# question 8\n",
    "# fit lasso model on training dataset, use 5-fold cross validation of grid search to find the best alpha value\n",
    "# alpha is defined within the range np.logspace(0, 8, 100)"
   ]
  },
  {
   "cell_type": "code",
   "execution_count": 10,
   "metadata": {},
   "outputs": [],
   "source": [
    "# question 9\n",
    "# use the best alpha value of lasso model to fit on the training set and make prediciton on test set,\n",
    "# inspect intercept and coeffcients of the model\n",
    "# what is the mean_squared_error?"
   ]
  },
  {
   "cell_type": "code",
   "execution_count": 11,
   "metadata": {},
   "outputs": [],
   "source": [
    "# question 10\n",
    "# compare the model performance of mulitple linear regression, ridge and lasso"
   ]
  },
  {
   "cell_type": "code",
   "execution_count": null,
   "metadata": {},
   "outputs": [],
   "source": []
  }
 ],
 "metadata": {
  "kernelspec": {
   "display_name": "Python 3",
   "language": "python",
   "name": "python3"
  },
  "language_info": {
   "codemirror_mode": {
    "name": "ipython",
    "version": 3
   },
   "file_extension": ".py",
   "mimetype": "text/x-python",
   "name": "python",
   "nbconvert_exporter": "python",
   "pygments_lexer": "ipython3",
   "version": "3.7.3"
  }
 },
 "nbformat": 4,
 "nbformat_minor": 2
}
