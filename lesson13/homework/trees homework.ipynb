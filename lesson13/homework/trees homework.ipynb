{
 "cells": [
  {
   "cell_type": "code",
   "execution_count": 1,
   "metadata": {},
   "outputs": [],
   "source": [
    "# question 1\n",
    "# please load OJ.csv\n",
    "# define x and y\n",
    "# targe is Purchase\n",
    "# all others are predictors"
   ]
  },
  {
   "cell_type": "code",
   "execution_count": 2,
   "metadata": {},
   "outputs": [],
   "source": [
    "# question 2:\n",
    "# split to traing and test dataset by ration 4:1"
   ]
  },
  {
   "cell_type": "code",
   "execution_count": 3,
   "metadata": {},
   "outputs": [],
   "source": [
    "# question 3: build decision trees\n",
    "#(1) Fit a decision tree model on the training set with the default setting."
   ]
  },
  {
   "cell_type": "code",
   "execution_count": 4,
   "metadata": {},
   "outputs": [],
   "source": [
    "#(2)Set the depth of the tree from 1 to 30. Look the varies of the training error and test accuracy."
   ]
  },
  {
   "cell_type": "code",
   "execution_count": 5,
   "metadata": {},
   "outputs": [],
   "source": [
    "#(3)Use the function grid_search.GridSearchCV to find the best parameters. What's the best parameters? \n",
    "#What's the training and test accuracy of the best model?\n",
    "# hint: 'criterion': ['gini', 'entropy'], 'max_depth': range(1, 31)"
   ]
  },
  {
   "cell_type": "code",
   "execution_count": 6,
   "metadata": {},
   "outputs": [],
   "source": [
    "#(4) What are the first 5 important features of the best model?"
   ]
  },
  {
   "cell_type": "code",
   "execution_count": 8,
   "metadata": {},
   "outputs": [],
   "source": [
    "# question 4: build Random Forest.\n",
    "#(1) Fit a random forest on the training set with the default setting. Report the training and test accuracy."
   ]
  },
  {
   "cell_type": "code",
   "execution_count": 9,
   "metadata": {},
   "outputs": [],
   "source": [
    "#(2) Use the function grid_search.GridSearchCV to find the best parameters. What's the best parameters? \n",
    "# What's the training and test accuracy of the best model?\n",
    "# 'criterion': ['gini', 'entropy'], 'max_features':range(3,10,1), \"n_estimators\": range(10, 110, 10),\n",
    "# \"min_samples_leaf\": range(1, 10), \"min_samples_split\": range(2, 30, 2)"
   ]
  },
  {
   "cell_type": "code",
   "execution_count": 10,
   "metadata": {},
   "outputs": [],
   "source": [
    "#(3) What's the first 5 important features of the best model?"
   ]
  },
  {
   "cell_type": "code",
   "execution_count": 11,
   "metadata": {},
   "outputs": [],
   "source": [
    "# question 4: build xgboost\n",
    "# (1) use bayesian optimization to find the best combination of the tuning parameters\n",
    "# What's the training and test accuracy of the best model?\n",
    "# 'max_depth': (1, 31),\n",
    "#'learning_rate': (0.01, 0.2),\n",
    "#'n_estimators': (10, 110),\n",
    "#'gamma': (0.01, 1.0),\n",
    "#'min_child_weight': (1, 10),\n",
    "#'subsample': (0.5, 1),\n",
    "#'colsample_bytree' :(0.5, 1)"
   ]
  },
  {
   "cell_type": "code",
   "execution_count": 12,
   "metadata": {},
   "outputs": [],
   "source": [
    "# (2) Plot feature importance"
   ]
  }
 ],
 "metadata": {
  "kernelspec": {
   "display_name": "Python 2",
   "language": "python",
   "name": "python2"
  },
  "language_info": {
   "codemirror_mode": {
    "name": "ipython",
    "version": 2
   },
   "file_extension": ".py",
   "mimetype": "text/x-python",
   "name": "python",
   "nbconvert_exporter": "python",
   "pygments_lexer": "ipython2",
   "version": "2.7.15"
  }
 },
 "nbformat": 4,
 "nbformat_minor": 1
}
